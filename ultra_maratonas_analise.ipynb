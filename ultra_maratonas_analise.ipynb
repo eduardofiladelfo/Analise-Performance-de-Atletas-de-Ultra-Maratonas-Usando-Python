{
 "cells": [
  {
   "cell_type": "code",
   "execution_count": 590,
   "id": "2fb75516-a139-4ff9-88ab-09e907d2cdde",
   "metadata": {},
   "outputs": [],
   "source": [
    "#Importando as bibliotecas\n",
    "import pandas as pd\n",
    "import matplotlib.pyplot as plt\n",
    "import seaborn as sns\n",
    "import numpy as np"
   ]
  },
  {
   "cell_type": "code",
   "execution_count": 591,
   "id": "0ec31681-d625-4265-bc9f-10c8c0b666ce",
   "metadata": {},
   "outputs": [
    {
     "data": {
      "text/html": [
       "<div>\n",
       "<style scoped>\n",
       "    .dataframe tbody tr th:only-of-type {\n",
       "        vertical-align: middle;\n",
       "    }\n",
       "\n",
       "    .dataframe tbody tr th {\n",
       "        vertical-align: top;\n",
       "    }\n",
       "\n",
       "    .dataframe thead th {\n",
       "        text-align: right;\n",
       "    }\n",
       "</style>\n",
       "<table border=\"1\" class=\"dataframe\">\n",
       "  <thead>\n",
       "    <tr style=\"text-align: right;\">\n",
       "      <th></th>\n",
       "      <th>Year of event</th>\n",
       "      <th>Event dates</th>\n",
       "      <th>Event name</th>\n",
       "      <th>Event distance/length</th>\n",
       "      <th>Event number of finishers</th>\n",
       "      <th>Athlete performance</th>\n",
       "      <th>Athlete club</th>\n",
       "      <th>Athlete country</th>\n",
       "      <th>Athlete year of birth</th>\n",
       "      <th>Athlete gender</th>\n",
       "      <th>Athlete age category</th>\n",
       "      <th>Athlete average speed</th>\n",
       "      <th>Athlete ID</th>\n",
       "    </tr>\n",
       "  </thead>\n",
       "  <tbody>\n",
       "    <tr>\n",
       "      <th>0</th>\n",
       "      <td>2018</td>\n",
       "      <td>06.01.2018</td>\n",
       "      <td>Selva Costera (CHI)</td>\n",
       "      <td>50km</td>\n",
       "      <td>22</td>\n",
       "      <td>4:51:39 h</td>\n",
       "      <td>Tnfrc</td>\n",
       "      <td>CHI</td>\n",
       "      <td>1978.0</td>\n",
       "      <td>M</td>\n",
       "      <td>M35</td>\n",
       "      <td>10.286</td>\n",
       "      <td>0</td>\n",
       "    </tr>\n",
       "    <tr>\n",
       "      <th>1</th>\n",
       "      <td>2018</td>\n",
       "      <td>06.01.2018</td>\n",
       "      <td>Selva Costera (CHI)</td>\n",
       "      <td>50km</td>\n",
       "      <td>22</td>\n",
       "      <td>5:15:45 h</td>\n",
       "      <td>Roberto Echeverría</td>\n",
       "      <td>CHI</td>\n",
       "      <td>1981.0</td>\n",
       "      <td>M</td>\n",
       "      <td>M35</td>\n",
       "      <td>9.501</td>\n",
       "      <td>1</td>\n",
       "    </tr>\n",
       "    <tr>\n",
       "      <th>2</th>\n",
       "      <td>2018</td>\n",
       "      <td>06.01.2018</td>\n",
       "      <td>Selva Costera (CHI)</td>\n",
       "      <td>50km</td>\n",
       "      <td>22</td>\n",
       "      <td>5:16:44 h</td>\n",
       "      <td>Puro Trail Osorno</td>\n",
       "      <td>CHI</td>\n",
       "      <td>1987.0</td>\n",
       "      <td>M</td>\n",
       "      <td>M23</td>\n",
       "      <td>9.472</td>\n",
       "      <td>2</td>\n",
       "    </tr>\n",
       "    <tr>\n",
       "      <th>3</th>\n",
       "      <td>2018</td>\n",
       "      <td>06.01.2018</td>\n",
       "      <td>Selva Costera (CHI)</td>\n",
       "      <td>50km</td>\n",
       "      <td>22</td>\n",
       "      <td>5:34:13 h</td>\n",
       "      <td>Columbia</td>\n",
       "      <td>ARG</td>\n",
       "      <td>1976.0</td>\n",
       "      <td>M</td>\n",
       "      <td>M40</td>\n",
       "      <td>8.976</td>\n",
       "      <td>3</td>\n",
       "    </tr>\n",
       "    <tr>\n",
       "      <th>4</th>\n",
       "      <td>2018</td>\n",
       "      <td>06.01.2018</td>\n",
       "      <td>Selva Costera (CHI)</td>\n",
       "      <td>50km</td>\n",
       "      <td>22</td>\n",
       "      <td>5:54:14 h</td>\n",
       "      <td>Baguales Trail</td>\n",
       "      <td>CHI</td>\n",
       "      <td>1992.0</td>\n",
       "      <td>M</td>\n",
       "      <td>M23</td>\n",
       "      <td>8.469</td>\n",
       "      <td>4</td>\n",
       "    </tr>\n",
       "  </tbody>\n",
       "</table>\n",
       "</div>"
      ],
      "text/plain": [
       "   Year of event Event dates           Event name Event distance/length  \\\n",
       "0           2018  06.01.2018  Selva Costera (CHI)                  50km   \n",
       "1           2018  06.01.2018  Selva Costera (CHI)                  50km   \n",
       "2           2018  06.01.2018  Selva Costera (CHI)                  50km   \n",
       "3           2018  06.01.2018  Selva Costera (CHI)                  50km   \n",
       "4           2018  06.01.2018  Selva Costera (CHI)                  50km   \n",
       "\n",
       "   Event number of finishers Athlete performance        Athlete club  \\\n",
       "0                         22           4:51:39 h               Tnfrc   \n",
       "1                         22           5:15:45 h  Roberto Echeverría   \n",
       "2                         22           5:16:44 h   Puro Trail Osorno   \n",
       "3                         22           5:34:13 h            Columbia   \n",
       "4                         22           5:54:14 h      Baguales Trail   \n",
       "\n",
       "  Athlete country  Athlete year of birth Athlete gender Athlete age category  \\\n",
       "0             CHI                 1978.0              M                  M35   \n",
       "1             CHI                 1981.0              M                  M35   \n",
       "2             CHI                 1987.0              M                  M23   \n",
       "3             ARG                 1976.0              M                  M40   \n",
       "4             CHI                 1992.0              M                  M23   \n",
       "\n",
       "  Athlete average speed  Athlete ID  \n",
       "0                10.286           0  \n",
       "1                 9.501           1  \n",
       "2                 9.472           2  \n",
       "3                 8.976           3  \n",
       "4                 8.469           4  "
      ]
     },
     "execution_count": 591,
     "metadata": {},
     "output_type": "execute_result"
    }
   ],
   "source": [
    "#Importar e visualizar dataset\n",
    "df = pd.read_csv('TWO_CENTURIES_OF_UM_RACES.csv', low_memory = False)\n",
    "\n",
    "df.head()"
   ]
  },
  {
   "cell_type": "code",
   "execution_count": 676,
   "id": "21a0de86-83f8-4aee-88b2-cd457fde9b76",
   "metadata": {},
   "outputs": [
    {
     "data": {
      "text/html": [
       "<div>\n",
       "<style scoped>\n",
       "    .dataframe tbody tr th:only-of-type {\n",
       "        vertical-align: middle;\n",
       "    }\n",
       "\n",
       "    .dataframe tbody tr th {\n",
       "        vertical-align: top;\n",
       "    }\n",
       "\n",
       "    .dataframe thead th {\n",
       "        text-align: right;\n",
       "    }\n",
       "</style>\n",
       "<table border=\"1\" class=\"dataframe\">\n",
       "  <thead>\n",
       "    <tr style=\"text-align: right;\">\n",
       "      <th></th>\n",
       "      <th>Year of event</th>\n",
       "      <th>Event dates</th>\n",
       "      <th>Event name</th>\n",
       "      <th>Event distance/length</th>\n",
       "      <th>Event number of finishers</th>\n",
       "      <th>Athlete performance</th>\n",
       "      <th>Athlete club</th>\n",
       "      <th>Athlete country</th>\n",
       "      <th>Athlete year of birth</th>\n",
       "      <th>Athlete gender</th>\n",
       "      <th>Athlete age category</th>\n",
       "      <th>Athlete average speed</th>\n",
       "      <th>Athlete ID</th>\n",
       "    </tr>\n",
       "  </thead>\n",
       "  <tbody>\n",
       "    <tr>\n",
       "      <th>2538571</th>\n",
       "      <td>2020</td>\n",
       "      <td>07.-09.02.2020</td>\n",
       "      <td>Taipei 48hr Ultra Marathon - 50mi (TPE)</td>\n",
       "      <td>50mi</td>\n",
       "      <td>38</td>\n",
       "      <td>7:34:19 h</td>\n",
       "      <td>日本隊</td>\n",
       "      <td>JPN</td>\n",
       "      <td>1965.0</td>\n",
       "      <td>M</td>\n",
       "      <td>M50</td>\n",
       "      <td>10.627</td>\n",
       "      <td>53107</td>\n",
       "    </tr>\n",
       "    <tr>\n",
       "      <th>2538572</th>\n",
       "      <td>2020</td>\n",
       "      <td>07.-09.02.2020</td>\n",
       "      <td>Taipei 48hr Ultra Marathon - 50mi (TPE)</td>\n",
       "      <td>50mi</td>\n",
       "      <td>38</td>\n",
       "      <td>7:43:50 h</td>\n",
       "      <td>NaN</td>\n",
       "      <td>AUS</td>\n",
       "      <td>1974.0</td>\n",
       "      <td>M</td>\n",
       "      <td>M45</td>\n",
       "      <td>10.409</td>\n",
       "      <td>8785</td>\n",
       "    </tr>\n",
       "    <tr>\n",
       "      <th>2538573</th>\n",
       "      <td>2020</td>\n",
       "      <td>07.-09.02.2020</td>\n",
       "      <td>Taipei 48hr Ultra Marathon - 50mi (TPE)</td>\n",
       "      <td>50mi</td>\n",
       "      <td>38</td>\n",
       "      <td>8:04:40 h</td>\n",
       "      <td>NaN</td>\n",
       "      <td>TPE</td>\n",
       "      <td>1976.0</td>\n",
       "      <td>M</td>\n",
       "      <td>M40</td>\n",
       "      <td>9.962</td>\n",
       "      <td>4502</td>\n",
       "    </tr>\n",
       "    <tr>\n",
       "      <th>2538574</th>\n",
       "      <td>2020</td>\n",
       "      <td>07.-09.02.2020</td>\n",
       "      <td>Taipei 48hr Ultra Marathon - 50mi (TPE)</td>\n",
       "      <td>50mi</td>\n",
       "      <td>38</td>\n",
       "      <td>8:30:49 h</td>\n",
       "      <td>台灣大腳ㄚ長跑協會</td>\n",
       "      <td>TPE</td>\n",
       "      <td>1969.0</td>\n",
       "      <td>F</td>\n",
       "      <td>W50</td>\n",
       "      <td>9.452</td>\n",
       "      <td>63964</td>\n",
       "    </tr>\n",
       "    <tr>\n",
       "      <th>2538575</th>\n",
       "      <td>2020</td>\n",
       "      <td>07.-09.02.2020</td>\n",
       "      <td>Taipei 48hr Ultra Marathon - 50mi (TPE)</td>\n",
       "      <td>50mi</td>\n",
       "      <td>38</td>\n",
       "      <td>8:34:47 h</td>\n",
       "      <td>NaN</td>\n",
       "      <td>TPE</td>\n",
       "      <td>1964.0</td>\n",
       "      <td>M</td>\n",
       "      <td>M55</td>\n",
       "      <td>9.379</td>\n",
       "      <td>4485</td>\n",
       "    </tr>\n",
       "  </tbody>\n",
       "</table>\n",
       "</div>"
      ],
      "text/plain": [
       "         Year of event     Event dates  \\\n",
       "2538571           2020  07.-09.02.2020   \n",
       "2538572           2020  07.-09.02.2020   \n",
       "2538573           2020  07.-09.02.2020   \n",
       "2538574           2020  07.-09.02.2020   \n",
       "2538575           2020  07.-09.02.2020   \n",
       "\n",
       "                                      Event name Event distance/length  \\\n",
       "2538571  Taipei 48hr Ultra Marathon - 50mi (TPE)                  50mi   \n",
       "2538572  Taipei 48hr Ultra Marathon - 50mi (TPE)                  50mi   \n",
       "2538573  Taipei 48hr Ultra Marathon - 50mi (TPE)                  50mi   \n",
       "2538574  Taipei 48hr Ultra Marathon - 50mi (TPE)                  50mi   \n",
       "2538575  Taipei 48hr Ultra Marathon - 50mi (TPE)                  50mi   \n",
       "\n",
       "         Event number of finishers Athlete performance Athlete club  \\\n",
       "2538571                         38           7:34:19 h          日本隊   \n",
       "2538572                         38           7:43:50 h          NaN   \n",
       "2538573                         38           8:04:40 h          NaN   \n",
       "2538574                         38           8:30:49 h    台灣大腳ㄚ長跑協會   \n",
       "2538575                         38           8:34:47 h          NaN   \n",
       "\n",
       "        Athlete country  Athlete year of birth Athlete gender  \\\n",
       "2538571             JPN                 1965.0              M   \n",
       "2538572             AUS                 1974.0              M   \n",
       "2538573             TPE                 1976.0              M   \n",
       "2538574             TPE                 1969.0              F   \n",
       "2538575             TPE                 1964.0              M   \n",
       "\n",
       "        Athlete age category Athlete average speed  Athlete ID  \n",
       "2538571                  M50                10.627       53107  \n",
       "2538572                  M45                10.409        8785  \n",
       "2538573                  M40                 9.962        4502  \n",
       "2538574                  W50                 9.452       63964  \n",
       "2538575                  M55                 9.379        4485  "
      ]
     },
     "execution_count": 676,
     "metadata": {},
     "output_type": "execute_result"
    }
   ],
   "source": [
    "#Encontrar as ultra maratonas com 50km ou 50mi no ano de 2020\n",
    "df1 = df[(df['Event distance/length'].isin(['50mi', '50km'])) & (df['Year of event']==2020)]\n",
    "\n",
    "df1.head()"
   ]
  },
  {
   "cell_type": "code",
   "execution_count": 678,
   "id": "03fa5dc8-1a0b-4f77-85f2-c9f918393b16",
   "metadata": {},
   "outputs": [
    {
     "data": {
      "image/png": "[encoded data removed]",
      "text/plain": [
       "<Figure size 1000x600 with 1 Axes>"
      ]
     },
     "metadata": {},
     "output_type": "display_data"
    }
   ],
   "source": [
    "#Top 5 países com a maior quantiade de maratonas em 2020\n",
    "\n",
    "#Plotar gráfico de barras \n",
    "plt.figure(figsize = (10,6))\n",
    "colors = ['#1D2E42', '#335173', '#4974A5', '#7F9DC0', '#A4B9D2']\n",
    "df1.drop_duplicates(subset=['Event name'])['Event name'].str.split('(').str.get(1).str.split(')').str.get(0).value_counts().head(5).plot(kind='bar', color=colors)\n",
    "\n",
    "\n",
    "#Formatar gráfico\n",
    "plt.xlabel('') \n",
    "plt.title('Top 5 países com mais eventos em 2020', fontsize = 20, color = '#414950', fontweight = 'bold')\n",
    "plt.gca().spines['top'].set_visible(False)\n",
    "plt.gca().spines['right'].set_visible(False) \n",
    "plt.gca().spines['left'].set_visible(False)\n",
    "plt.gca().spines['bottom'].set_visible(False) \n",
    "plt.gca().grid(False)\n",
    "\n",
    "# Salvar o gráfico em um arquivo\n",
    "plt.savefig('grafico.png', dpi=300, bbox_inches='tight')"
   ]
  },
  {
   "cell_type": "markdown",
   "id": "42c26d9d-9596-4a5f-84e9-7c440335baa8",
   "metadata": {},
   "source": [
    "Dentre os top 5 o Estados Unidos lidera com a maior quantidade de ultra maratonas com quase 500 eventos em 2020."
   ]
  },
  {
   "cell_type": "code",
   "execution_count": 595,
   "id": "dc39bdff-a705-43a1-89f9-6b0bc9dd191c",
   "metadata": {},
   "outputs": [
    {
     "data": {
      "text/plain": [
       "(26090, 13)"
      ]
     },
     "execution_count": 595,
     "metadata": {},
     "output_type": "execute_result"
    }
   ],
   "source": [
    "# Filtrar somente maratonas nos EUA\n",
    "df1 = df1[df1['Event name'].str.split('(').str.get(1).str.split(')').str.get(0)=='USA']\n",
    "\n",
    "#Exibir quantidade de linhas e colunas\n",
    "df1.shape"
   ]
  },
  {
   "cell_type": "code",
   "execution_count": 596,
   "id": "fc7d9fd6-b638-4e69-a3d5-667616bc4ab7",
   "metadata": {},
   "outputs": [
    {
     "data": {
      "image/png": "[encoded data removed]",
      "text/plain": [
       "<Figure size 1000x600 with 1 Axes>"
      ]
     },
     "metadata": {},
     "output_type": "display_data"
    }
   ],
   "source": [
    "#Top 5 eventos mais populares no EUA em 2020\n",
    "\n",
    "#Plotar gráfico\n",
    "plt.figure(figsize = (10,6))\n",
    "colors = ['#1D2E42', '#335173', '#4974A5', '#7F9DC0', '#A4B9D2']\n",
    "df1['Event name'].value_counts().head(5).plot(kind = 'bar', color= colors)\n",
    "\n",
    "#formatar gráfico\n",
    "plt.xlabel('')\n",
    "plt.title('Top 5 eventos mais populares no EUA em 2020', fontsize = 20, color = '#414950', fontweight = 'bold')\n",
    "plt.gca().spines['top'].set_visible(False)\n",
    "plt.gca().spines['right'].set_visible(False) \n",
    "plt.gca().spines['left'].set_visible(False)\n",
    "plt.gca().spines['bottom'].set_visible(False)\n",
    "plt.gca().grid(False)\n",
    "\n",
    "plt.savefig('Top 5 eventos mais populares no EUA em 2020', dpi=300, bbox_inches='tight')"
   ]
  },
  {
   "cell_type": "markdown",
   "id": "7d7391dd-b45f-49a7-a131-834d96e82102",
   "metadata": {},
   "source": [
    "Dos eventos que ocorreram no EUA no ano de 2020, o JFK 50 Mile foi o mais popular dentre eles. "
   ]
  },
  {
   "cell_type": "code",
   "execution_count": 599,
   "id": "bd50f6a1-40b1-4163-ac68-11abdd4273ba",
   "metadata": {},
   "outputs": [
    {
     "data": {
      "text/html": [
       "<div>\n",
       "<style scoped>\n",
       "    .dataframe tbody tr th:only-of-type {\n",
       "        vertical-align: middle;\n",
       "    }\n",
       "\n",
       "    .dataframe tbody tr th {\n",
       "        vertical-align: top;\n",
       "    }\n",
       "\n",
       "    .dataframe thead th {\n",
       "        text-align: right;\n",
       "    }\n",
       "</style>\n",
       "<table border=\"1\" class=\"dataframe\">\n",
       "  <thead>\n",
       "    <tr style=\"text-align: right;\">\n",
       "      <th></th>\n",
       "      <th>Year of event</th>\n",
       "      <th>Event dates</th>\n",
       "      <th>Event name</th>\n",
       "      <th>Event distance/length</th>\n",
       "      <th>Event number of finishers</th>\n",
       "      <th>Athlete performance</th>\n",
       "      <th>Athlete club</th>\n",
       "      <th>Athlete country</th>\n",
       "      <th>Athlete year of birth</th>\n",
       "      <th>Athlete gender</th>\n",
       "      <th>Athlete age category</th>\n",
       "      <th>Athlete average speed</th>\n",
       "      <th>Athlete ID</th>\n",
       "    </tr>\n",
       "  </thead>\n",
       "  <tbody>\n",
       "    <tr>\n",
       "      <th>2713361</th>\n",
       "      <td>2020</td>\n",
       "      <td>21.11.2020</td>\n",
       "      <td>JFK 50 Mile (USA)</td>\n",
       "      <td>50mi</td>\n",
       "      <td>636</td>\n",
       "      <td>5:18:42 h</td>\n",
       "      <td>*Cedar City, UT</td>\n",
       "      <td>USA</td>\n",
       "      <td>1991.0</td>\n",
       "      <td>M</td>\n",
       "      <td>M23</td>\n",
       "      <td>15.149</td>\n",
       "      <td>52105</td>\n",
       "    </tr>\n",
       "    <tr>\n",
       "      <th>2713362</th>\n",
       "      <td>2020</td>\n",
       "      <td>21.11.2020</td>\n",
       "      <td>JFK 50 Mile (USA)</td>\n",
       "      <td>50mi</td>\n",
       "      <td>636</td>\n",
       "      <td>5:27:07 h</td>\n",
       "      <td>*Flagstaff, AZ</td>\n",
       "      <td>USA</td>\n",
       "      <td>1991.0</td>\n",
       "      <td>M</td>\n",
       "      <td>M23</td>\n",
       "      <td>14.759</td>\n",
       "      <td>168122</td>\n",
       "    </tr>\n",
       "    <tr>\n",
       "      <th>2713363</th>\n",
       "      <td>2020</td>\n",
       "      <td>21.11.2020</td>\n",
       "      <td>JFK 50 Mile (USA)</td>\n",
       "      <td>50mi</td>\n",
       "      <td>636</td>\n",
       "      <td>5:37:16 h</td>\n",
       "      <td>*Colorado Springs, CO</td>\n",
       "      <td>USA</td>\n",
       "      <td>1991.0</td>\n",
       "      <td>M</td>\n",
       "      <td>M23</td>\n",
       "      <td>14.315</td>\n",
       "      <td>848700</td>\n",
       "    </tr>\n",
       "    <tr>\n",
       "      <th>2713364</th>\n",
       "      <td>2020</td>\n",
       "      <td>21.11.2020</td>\n",
       "      <td>JFK 50 Mile (USA)</td>\n",
       "      <td>50mi</td>\n",
       "      <td>636</td>\n",
       "      <td>5:45:33 h</td>\n",
       "      <td>*Durango, CO</td>\n",
       "      <td>USA</td>\n",
       "      <td>1992.0</td>\n",
       "      <td>M</td>\n",
       "      <td>M23</td>\n",
       "      <td>13.972</td>\n",
       "      <td>37196</td>\n",
       "    </tr>\n",
       "    <tr>\n",
       "      <th>2713365</th>\n",
       "      <td>2020</td>\n",
       "      <td>21.11.2020</td>\n",
       "      <td>JFK 50 Mile (USA)</td>\n",
       "      <td>50mi</td>\n",
       "      <td>636</td>\n",
       "      <td>5:52:54 h</td>\n",
       "      <td>*Ann Arbor, MI</td>\n",
       "      <td>USA</td>\n",
       "      <td>1990.0</td>\n",
       "      <td>M</td>\n",
       "      <td>M23</td>\n",
       "      <td>13.681</td>\n",
       "      <td>153351</td>\n",
       "    </tr>\n",
       "  </tbody>\n",
       "</table>\n",
       "</div>"
      ],
      "text/plain": [
       "         Year of event Event dates         Event name Event distance/length  \\\n",
       "2713361           2020  21.11.2020  JFK 50 Mile (USA)                  50mi   \n",
       "2713362           2020  21.11.2020  JFK 50 Mile (USA)                  50mi   \n",
       "2713363           2020  21.11.2020  JFK 50 Mile (USA)                  50mi   \n",
       "2713364           2020  21.11.2020  JFK 50 Mile (USA)                  50mi   \n",
       "2713365           2020  21.11.2020  JFK 50 Mile (USA)                  50mi   \n",
       "\n",
       "         Event number of finishers Athlete performance           Athlete club  \\\n",
       "2713361                        636           5:18:42 h        *Cedar City, UT   \n",
       "2713362                        636           5:27:07 h         *Flagstaff, AZ   \n",
       "2713363                        636           5:37:16 h  *Colorado Springs, CO   \n",
       "2713364                        636           5:45:33 h           *Durango, CO   \n",
       "2713365                        636           5:52:54 h         *Ann Arbor, MI   \n",
       "\n",
       "        Athlete country  Athlete year of birth Athlete gender  \\\n",
       "2713361             USA                 1991.0              M   \n",
       "2713362             USA                 1991.0              M   \n",
       "2713363             USA                 1991.0              M   \n",
       "2713364             USA                 1992.0              M   \n",
       "2713365             USA                 1990.0              M   \n",
       "\n",
       "        Athlete age category Athlete average speed  Athlete ID  \n",
       "2713361                  M23                15.149       52105  \n",
       "2713362                  M23                14.759      168122  \n",
       "2713363                  M23                14.315      848700  \n",
       "2713364                  M23                13.972       37196  \n",
       "2713365                  M23                13.681      153351  "
      ]
     },
     "execution_count": 599,
     "metadata": {},
     "output_type": "execute_result"
    }
   ],
   "source": [
    "#Filtrar apenas JFK \n",
    "jfk_event = df1[df1['Event name'] == 'JFK 50 Mile (USA)']\n",
    "\n",
    "#Visualizar DF\n",
    "jfk_event.head()"
   ]
  },
  {
   "cell_type": "code",
   "execution_count": 600,
   "id": "47ef1714-0b7f-4ba2-955c-5026d441da4d",
   "metadata": {},
   "outputs": [
    {
     "data": {
      "text/plain": [
       "Year of event                0\n",
       "Event dates                  0\n",
       "Event name                   0\n",
       "Event distance/length        0\n",
       "Event number of finishers    0\n",
       "Athlete performance          0\n",
       "Athlete club                 4\n",
       "Athlete country              0\n",
       "Athlete year of birth        4\n",
       "Athlete gender               0\n",
       "Athlete age category         0\n",
       "Athlete average speed        0\n",
       "Athlete ID                   0\n",
       "dtype: int64"
      ]
     },
     "execution_count": 600,
     "metadata": {},
     "output_type": "execute_result"
    }
   ],
   "source": [
    "#Verificar se existem valores nulos\n",
    "jfk_event.isnull().sum()"
   ]
  },
  {
   "cell_type": "code",
   "execution_count": 601,
   "id": "b0fcb5ad-7106-4720-aeff-bf53b70f08c1",
   "metadata": {},
   "outputs": [
    {
     "data": {
      "text/plain": [
       "(636, 13)"
      ]
     },
     "execution_count": 601,
     "metadata": {},
     "output_type": "execute_result"
    }
   ],
   "source": [
    "# Verificar tamanho do DF\n",
    "jfk_event.shape"
   ]
  },
  {
   "cell_type": "code",
   "execution_count": 602,
   "id": "e0ebb506-921b-4253-a095-4e8bb9f16988",
   "metadata": {},
   "outputs": [
    {
     "data": {
      "text/html": [
       "<div>\n",
       "<style scoped>\n",
       "    .dataframe tbody tr th:only-of-type {\n",
       "        vertical-align: middle;\n",
       "    }\n",
       "\n",
       "    .dataframe tbody tr th {\n",
       "        vertical-align: top;\n",
       "    }\n",
       "\n",
       "    .dataframe thead th {\n",
       "        text-align: right;\n",
       "    }\n",
       "</style>\n",
       "<table border=\"1\" class=\"dataframe\">\n",
       "  <thead>\n",
       "    <tr style=\"text-align: right;\">\n",
       "      <th></th>\n",
       "      <th>Year of event</th>\n",
       "      <th>Event dates</th>\n",
       "      <th>Event name</th>\n",
       "      <th>Event distance/length</th>\n",
       "      <th>Event number of finishers</th>\n",
       "      <th>Athlete performance</th>\n",
       "      <th>Athlete club</th>\n",
       "      <th>Athlete country</th>\n",
       "      <th>Athlete year of birth</th>\n",
       "      <th>Athlete gender</th>\n",
       "      <th>Athlete age category</th>\n",
       "      <th>Athlete average speed</th>\n",
       "      <th>Athlete ID</th>\n",
       "    </tr>\n",
       "  </thead>\n",
       "  <tbody>\n",
       "    <tr>\n",
       "      <th>2713466</th>\n",
       "      <td>2020</td>\n",
       "      <td>21.11.2020</td>\n",
       "      <td>JFK 50 Mile (USA)</td>\n",
       "      <td>50mi</td>\n",
       "      <td>636</td>\n",
       "      <td>8:59:27 h</td>\n",
       "      <td>NaN</td>\n",
       "      <td>XXX</td>\n",
       "      <td>NaN</td>\n",
       "      <td>M</td>\n",
       "      <td>M35</td>\n",
       "      <td>8.95</td>\n",
       "      <td>4033</td>\n",
       "    </tr>\n",
       "    <tr>\n",
       "      <th>2713524</th>\n",
       "      <td>2020</td>\n",
       "      <td>21.11.2020</td>\n",
       "      <td>JFK 50 Mile (USA)</td>\n",
       "      <td>50mi</td>\n",
       "      <td>636</td>\n",
       "      <td>9:50:08 h</td>\n",
       "      <td>NaN</td>\n",
       "      <td>XXX</td>\n",
       "      <td>NaN</td>\n",
       "      <td>M</td>\n",
       "      <td>M35</td>\n",
       "      <td>8.181</td>\n",
       "      <td>4033</td>\n",
       "    </tr>\n",
       "    <tr>\n",
       "      <th>2713744</th>\n",
       "      <td>2020</td>\n",
       "      <td>21.11.2020</td>\n",
       "      <td>JFK 50 Mile (USA)</td>\n",
       "      <td>50mi</td>\n",
       "      <td>636</td>\n",
       "      <td>11:38:53 h</td>\n",
       "      <td>NaN</td>\n",
       "      <td>XXX</td>\n",
       "      <td>NaN</td>\n",
       "      <td>M</td>\n",
       "      <td>M35</td>\n",
       "      <td>6.908</td>\n",
       "      <td>4033</td>\n",
       "    </tr>\n",
       "    <tr>\n",
       "      <th>2713948</th>\n",
       "      <td>2020</td>\n",
       "      <td>21.11.2020</td>\n",
       "      <td>JFK 50 Mile (USA)</td>\n",
       "      <td>50mi</td>\n",
       "      <td>636</td>\n",
       "      <td>13:12:24 h</td>\n",
       "      <td>NaN</td>\n",
       "      <td>XXX</td>\n",
       "      <td>NaN</td>\n",
       "      <td>M</td>\n",
       "      <td>M35</td>\n",
       "      <td>6.093</td>\n",
       "      <td>4033</td>\n",
       "    </tr>\n",
       "  </tbody>\n",
       "</table>\n",
       "</div>"
      ],
      "text/plain": [
       "         Year of event Event dates         Event name Event distance/length  \\\n",
       "2713466           2020  21.11.2020  JFK 50 Mile (USA)                  50mi   \n",
       "2713524           2020  21.11.2020  JFK 50 Mile (USA)                  50mi   \n",
       "2713744           2020  21.11.2020  JFK 50 Mile (USA)                  50mi   \n",
       "2713948           2020  21.11.2020  JFK 50 Mile (USA)                  50mi   \n",
       "\n",
       "         Event number of finishers Athlete performance Athlete club  \\\n",
       "2713466                        636           8:59:27 h          NaN   \n",
       "2713524                        636           9:50:08 h          NaN   \n",
       "2713744                        636          11:38:53 h          NaN   \n",
       "2713948                        636          13:12:24 h          NaN   \n",
       "\n",
       "        Athlete country  Athlete year of birth Athlete gender  \\\n",
       "2713466             XXX                    NaN              M   \n",
       "2713524             XXX                    NaN              M   \n",
       "2713744             XXX                    NaN              M   \n",
       "2713948             XXX                    NaN              M   \n",
       "\n",
       "        Athlete age category Athlete average speed  Athlete ID  \n",
       "2713466                  M35                  8.95        4033  \n",
       "2713524                  M35                 8.181        4033  \n",
       "2713744                  M35                 6.908        4033  \n",
       "2713948                  M35                 6.093        4033  "
      ]
     },
     "execution_count": 602,
     "metadata": {},
     "output_type": "execute_result"
    }
   ],
   "source": [
    "# Visualizar os dados nulos\n",
    "jfk_event[jfk_event.isnull().any(axis=1)]"
   ]
  },
  {
   "cell_type": "markdown",
   "id": "ede31fc4-e408-45c9-97b5-de51b7429f8f",
   "metadata": {},
   "source": [
    "Houve registro do mesmo atleta em diferentes linhas."
   ]
  },
  {
   "cell_type": "code",
   "execution_count": 604,
   "id": "be57d753-059f-4c82-8a42-4d1bd8c6b2b8",
   "metadata": {},
   "outputs": [],
   "source": [
    "#Remove os valores nulos\n",
    "jfk_event = jfk_event.dropna()  "
   ]
  },
  {
   "cell_type": "code",
   "execution_count": 605,
   "id": "a2002ccc-e5f7-4b52-8df4-d6658cc384fd",
   "metadata": {},
   "outputs": [],
   "source": [
    "# Remove a coluna 'Athlete year of birth', 'Athlete club' e 'Athlete Country' \n",
    "jfk_event = jfk_event.drop(['Athlete year of birth', 'Athlete club', 'Athlete country'], axis=1) "
   ]
  },
  {
   "cell_type": "code",
   "execution_count": 606,
   "id": "063747a9-6898-49b2-875a-1c659d9e7922",
   "metadata": {},
   "outputs": [],
   "source": [
    "# Remove \"h\" da coluna 'Athlete performance'\n",
    "jfk_event['Athlete performance'] = jfk_event['Athlete performance'].str.replace(' h','') "
   ]
  },
  {
   "cell_type": "code",
   "execution_count": 607,
   "id": "25c032a7-cece-4a06-a0b1-04d26bb4a36e",
   "metadata": {},
   "outputs": [
    {
     "data": {
      "text/plain": [
       "array(['M23', 'M35', 'MU23', 'W35', 'M40', 'W23', 'M55', 'M45', 'W40',\n",
       "       'M50', 'W50', 'W45', 'M60', 'WU23', 'W55', 'M65', 'M70', 'W65',\n",
       "       'W60'], dtype=object)"
      ]
     },
     "execution_count": 607,
     "metadata": {},
     "output_type": "execute_result"
    }
   ],
   "source": [
    "# Verifica os padrões dos caracteres que antecedem os valores das idades.\n",
    "jfk_event['Athlete age category'].unique()"
   ]
  },
  {
   "cell_type": "code",
   "execution_count": 608,
   "id": "b4df8ae2-c027-4b04-9264-d6d78f27650f",
   "metadata": {},
   "outputs": [],
   "source": [
    "# Remove os caracteres que antecedem as idades\n",
    "jfk_event['Athlete age category'] = (jfk_event['Athlete age category'].str.replace('F','').str.replace('M','').str.replace('W','').str.replace('WU','').str.replace('U','')) "
   ]
  },
  {
   "cell_type": "code",
   "execution_count": 609,
   "id": "d5f85ff8-5a1b-414b-842b-d2095e125075",
   "metadata": {},
   "outputs": [
    {
     "data": {
      "text/html": [
       "<div>\n",
       "<style scoped>\n",
       "    .dataframe tbody tr th:only-of-type {\n",
       "        vertical-align: middle;\n",
       "    }\n",
       "\n",
       "    .dataframe tbody tr th {\n",
       "        vertical-align: top;\n",
       "    }\n",
       "\n",
       "    .dataframe thead th {\n",
       "        text-align: right;\n",
       "    }\n",
       "</style>\n",
       "<table border=\"1\" class=\"dataframe\">\n",
       "  <thead>\n",
       "    <tr style=\"text-align: right;\">\n",
       "      <th></th>\n",
       "      <th>Year of event</th>\n",
       "      <th>Event dates</th>\n",
       "      <th>Event name</th>\n",
       "      <th>Event distance/length</th>\n",
       "      <th>Event number of finishers</th>\n",
       "      <th>Athlete performance</th>\n",
       "      <th>Athlete gender</th>\n",
       "      <th>Athlete age category</th>\n",
       "      <th>Athlete average speed</th>\n",
       "      <th>Athlete ID</th>\n",
       "    </tr>\n",
       "  </thead>\n",
       "  <tbody>\n",
       "    <tr>\n",
       "      <th>2713361</th>\n",
       "      <td>2020</td>\n",
       "      <td>21.11.2020</td>\n",
       "      <td>JFK 50 Mile (USA)</td>\n",
       "      <td>50mi</td>\n",
       "      <td>636</td>\n",
       "      <td>5:18:42</td>\n",
       "      <td>M</td>\n",
       "      <td>23</td>\n",
       "      <td>15.149</td>\n",
       "      <td>52105</td>\n",
       "    </tr>\n",
       "    <tr>\n",
       "      <th>2713362</th>\n",
       "      <td>2020</td>\n",
       "      <td>21.11.2020</td>\n",
       "      <td>JFK 50 Mile (USA)</td>\n",
       "      <td>50mi</td>\n",
       "      <td>636</td>\n",
       "      <td>5:27:07</td>\n",
       "      <td>M</td>\n",
       "      <td>23</td>\n",
       "      <td>14.759</td>\n",
       "      <td>168122</td>\n",
       "    </tr>\n",
       "    <tr>\n",
       "      <th>2713363</th>\n",
       "      <td>2020</td>\n",
       "      <td>21.11.2020</td>\n",
       "      <td>JFK 50 Mile (USA)</td>\n",
       "      <td>50mi</td>\n",
       "      <td>636</td>\n",
       "      <td>5:37:16</td>\n",
       "      <td>M</td>\n",
       "      <td>23</td>\n",
       "      <td>14.315</td>\n",
       "      <td>848700</td>\n",
       "    </tr>\n",
       "    <tr>\n",
       "      <th>2713364</th>\n",
       "      <td>2020</td>\n",
       "      <td>21.11.2020</td>\n",
       "      <td>JFK 50 Mile (USA)</td>\n",
       "      <td>50mi</td>\n",
       "      <td>636</td>\n",
       "      <td>5:45:33</td>\n",
       "      <td>M</td>\n",
       "      <td>23</td>\n",
       "      <td>13.972</td>\n",
       "      <td>37196</td>\n",
       "    </tr>\n",
       "    <tr>\n",
       "      <th>2713365</th>\n",
       "      <td>2020</td>\n",
       "      <td>21.11.2020</td>\n",
       "      <td>JFK 50 Mile (USA)</td>\n",
       "      <td>50mi</td>\n",
       "      <td>636</td>\n",
       "      <td>5:52:54</td>\n",
       "      <td>M</td>\n",
       "      <td>23</td>\n",
       "      <td>13.681</td>\n",
       "      <td>153351</td>\n",
       "    </tr>\n",
       "  </tbody>\n",
       "</table>\n",
       "</div>"
      ],
      "text/plain": [
       "         Year of event Event dates         Event name Event distance/length  \\\n",
       "2713361           2020  21.11.2020  JFK 50 Mile (USA)                  50mi   \n",
       "2713362           2020  21.11.2020  JFK 50 Mile (USA)                  50mi   \n",
       "2713363           2020  21.11.2020  JFK 50 Mile (USA)                  50mi   \n",
       "2713364           2020  21.11.2020  JFK 50 Mile (USA)                  50mi   \n",
       "2713365           2020  21.11.2020  JFK 50 Mile (USA)                  50mi   \n",
       "\n",
       "         Event number of finishers Athlete performance Athlete gender  \\\n",
       "2713361                        636             5:18:42              M   \n",
       "2713362                        636             5:27:07              M   \n",
       "2713363                        636             5:37:16              M   \n",
       "2713364                        636             5:45:33              M   \n",
       "2713365                        636             5:52:54              M   \n",
       "\n",
       "        Athlete age category Athlete average speed  Athlete ID  \n",
       "2713361                   23                15.149       52105  \n",
       "2713362                   23                14.759      168122  \n",
       "2713363                   23                14.315      848700  \n",
       "2713364                   23                13.972       37196  \n",
       "2713365                   23                13.681      153351  "
      ]
     },
     "execution_count": 609,
     "metadata": {},
     "output_type": "execute_result"
    }
   ],
   "source": [
    "jfk_event.head()"
   ]
  },
  {
   "cell_type": "code",
   "execution_count": 610,
   "id": "8aa17d9a-5531-45d1-98fb-f52cb3463577",
   "metadata": {},
   "outputs": [
    {
     "data": {
      "text/plain": [
       "Index(['Year of event', 'Event dates', 'Event name', 'Event distance/length',\n",
       "       'Event number of finishers', 'Athlete performance', 'Athlete gender',\n",
       "       'Athlete age category', 'Athlete average speed', 'Athlete ID'],\n",
       "      dtype='object')"
      ]
     },
     "execution_count": 610,
     "metadata": {},
     "output_type": "execute_result"
    }
   ],
   "source": [
    "# Verificar colunas \n",
    "jfk_event.columns"
   ]
  },
  {
   "cell_type": "code",
   "execution_count": 611,
   "id": "104a22c0-9f5e-4bae-a0aa-705bd5cd612e",
   "metadata": {},
   "outputs": [],
   "source": [
    "# Renomear Colunas\n",
    "jfk_event.rename(columns={\n",
    "    'Year of event': 'year',\n",
    "    'Event dates': 'event_date',\n",
    "    'Event name': 'event_name',\n",
    "    'Event distance/length': 'distance',\n",
    "    'Event number of finishers': 'finishers',\n",
    "    'Athlete performance': 'performance',\n",
    "    'Athlete gender': 'gender',\n",
    "    'Athlete age category': 'age',\n",
    "    'Athlete average speed': 'avg_speed',\n",
    "    'Athlete ID': 'id'\n",
    "}, inplace=True) "
   ]
  },
  {
   "cell_type": "code",
   "execution_count": 612,
   "id": "fe06564f-c8b0-4806-8080-9da906d7f4e0",
   "metadata": {},
   "outputs": [
    {
     "data": {
      "text/plain": [
       "Index(['year', 'event_date', 'event_name', 'distance', 'finishers',\n",
       "       'performance', 'gender', 'age', 'avg_speed', 'id'],\n",
       "      dtype='object')"
      ]
     },
     "execution_count": 612,
     "metadata": {},
     "output_type": "execute_result"
    }
   ],
   "source": [
    "#Ver as colunas do df\n",
    "jfk_event.columns"
   ]
  },
  {
   "cell_type": "code",
   "execution_count": 613,
   "id": "21bef4f6-c06d-4aad-bf1f-6153b024f508",
   "metadata": {},
   "outputs": [
    {
     "data": {
      "text/plain": [
       "year            int64\n",
       "event_date     object\n",
       "event_name     object\n",
       "distance       object\n",
       "finishers       int64\n",
       "performance    object\n",
       "gender         object\n",
       "age            object\n",
       "avg_speed      object\n",
       "id              int64\n",
       "dtype: object"
      ]
     },
     "execution_count": 613,
     "metadata": {},
     "output_type": "execute_result"
    }
   ],
   "source": [
    "#verificar o tipo de dado de cada coluna\n",
    "jfk_event.dtypes"
   ]
  },
  {
   "cell_type": "code",
   "execution_count": 614,
   "id": "0a1d1db3-ef9f-4b80-9f47-f69aec9ab62c",
   "metadata": {},
   "outputs": [
    {
     "data": {
      "text/html": [
       "<div>\n",
       "<style scoped>\n",
       "    .dataframe tbody tr th:only-of-type {\n",
       "        vertical-align: middle;\n",
       "    }\n",
       "\n",
       "    .dataframe tbody tr th {\n",
       "        vertical-align: top;\n",
       "    }\n",
       "\n",
       "    .dataframe thead th {\n",
       "        text-align: right;\n",
       "    }\n",
       "</style>\n",
       "<table border=\"1\" class=\"dataframe\">\n",
       "  <thead>\n",
       "    <tr style=\"text-align: right;\">\n",
       "      <th></th>\n",
       "      <th>year</th>\n",
       "      <th>event_date</th>\n",
       "      <th>event_name</th>\n",
       "      <th>distance</th>\n",
       "      <th>finishers</th>\n",
       "      <th>performance</th>\n",
       "      <th>gender</th>\n",
       "      <th>age</th>\n",
       "      <th>avg_speed</th>\n",
       "      <th>id</th>\n",
       "    </tr>\n",
       "  </thead>\n",
       "  <tbody>\n",
       "    <tr>\n",
       "      <th>2713361</th>\n",
       "      <td>2020</td>\n",
       "      <td>21.11.2020</td>\n",
       "      <td>JFK 50 Mile (USA)</td>\n",
       "      <td>50mi</td>\n",
       "      <td>636</td>\n",
       "      <td>5:18:42</td>\n",
       "      <td>M</td>\n",
       "      <td>23</td>\n",
       "      <td>15.149</td>\n",
       "      <td>52105</td>\n",
       "    </tr>\n",
       "  </tbody>\n",
       "</table>\n",
       "</div>"
      ],
      "text/plain": [
       "         year  event_date         event_name distance  finishers performance  \\\n",
       "2713361  2020  21.11.2020  JFK 50 Mile (USA)     50mi        636     5:18:42   \n",
       "\n",
       "        gender age avg_speed     id  \n",
       "2713361      M  23    15.149  52105  "
      ]
     },
     "execution_count": 614,
     "metadata": {},
     "output_type": "execute_result"
    }
   ],
   "source": [
    "jfk_event.head(1)"
   ]
  },
  {
   "cell_type": "code",
   "execution_count": 615,
   "id": "8b7bf160-4791-4a75-90c2-a1a401344ee2",
   "metadata": {},
   "outputs": [],
   "source": [
    "# Average speed para float\n",
    "jfk_event['avg_speed'] = jfk_event['avg_speed'].astype('float') \n",
    "\n",
    "# Age para int\n",
    "jfk_event['age'] = jfk_event['age'].astype('int64') "
   ]
  },
  {
   "cell_type": "code",
   "execution_count": 616,
   "id": "3cdbfcd8-e7b8-4709-9caa-110d1d45ddf0",
   "metadata": {},
   "outputs": [],
   "source": [
    "#Performance para datetime\n",
    "jfk_event ['performance'] = pd.to_datetime('2020-11-21 ' + jfk_event['performance']) "
   ]
  },
  {
   "cell_type": "code",
   "execution_count": 618,
   "id": "5ba9f871-9966-45bb-aa3c-0045def48052",
   "metadata": {},
   "outputs": [
    {
     "data": {
      "text/html": [
       "<div>\n",
       "<style scoped>\n",
       "    .dataframe tbody tr th:only-of-type {\n",
       "        vertical-align: middle;\n",
       "    }\n",
       "\n",
       "    .dataframe tbody tr th {\n",
       "        vertical-align: top;\n",
       "    }\n",
       "\n",
       "    .dataframe thead th {\n",
       "        text-align: right;\n",
       "    }\n",
       "</style>\n",
       "<table border=\"1\" class=\"dataframe\">\n",
       "  <thead>\n",
       "    <tr style=\"text-align: right;\">\n",
       "      <th></th>\n",
       "      <th>year</th>\n",
       "      <th>event_date</th>\n",
       "      <th>event_name</th>\n",
       "      <th>distance</th>\n",
       "      <th>finishers</th>\n",
       "      <th>performance</th>\n",
       "      <th>gender</th>\n",
       "      <th>age</th>\n",
       "      <th>avg_speed</th>\n",
       "      <th>id</th>\n",
       "    </tr>\n",
       "  </thead>\n",
       "  <tbody>\n",
       "    <tr>\n",
       "      <th>2713361</th>\n",
       "      <td>2020</td>\n",
       "      <td>21.11.2020</td>\n",
       "      <td>JFK 50 Mile (USA)</td>\n",
       "      <td>50mi</td>\n",
       "      <td>636</td>\n",
       "      <td>2020-11-21 05:18:42</td>\n",
       "      <td>M</td>\n",
       "      <td>23</td>\n",
       "      <td>15.149</td>\n",
       "      <td>52105</td>\n",
       "    </tr>\n",
       "    <tr>\n",
       "      <th>2713362</th>\n",
       "      <td>2020</td>\n",
       "      <td>21.11.2020</td>\n",
       "      <td>JFK 50 Mile (USA)</td>\n",
       "      <td>50mi</td>\n",
       "      <td>636</td>\n",
       "      <td>2020-11-21 05:27:07</td>\n",
       "      <td>M</td>\n",
       "      <td>23</td>\n",
       "      <td>14.759</td>\n",
       "      <td>168122</td>\n",
       "    </tr>\n",
       "    <tr>\n",
       "      <th>2713363</th>\n",
       "      <td>2020</td>\n",
       "      <td>21.11.2020</td>\n",
       "      <td>JFK 50 Mile (USA)</td>\n",
       "      <td>50mi</td>\n",
       "      <td>636</td>\n",
       "      <td>2020-11-21 05:37:16</td>\n",
       "      <td>M</td>\n",
       "      <td>23</td>\n",
       "      <td>14.315</td>\n",
       "      <td>848700</td>\n",
       "    </tr>\n",
       "    <tr>\n",
       "      <th>2713364</th>\n",
       "      <td>2020</td>\n",
       "      <td>21.11.2020</td>\n",
       "      <td>JFK 50 Mile (USA)</td>\n",
       "      <td>50mi</td>\n",
       "      <td>636</td>\n",
       "      <td>2020-11-21 05:45:33</td>\n",
       "      <td>M</td>\n",
       "      <td>23</td>\n",
       "      <td>13.972</td>\n",
       "      <td>37196</td>\n",
       "    </tr>\n",
       "    <tr>\n",
       "      <th>2713365</th>\n",
       "      <td>2020</td>\n",
       "      <td>21.11.2020</td>\n",
       "      <td>JFK 50 Mile (USA)</td>\n",
       "      <td>50mi</td>\n",
       "      <td>636</td>\n",
       "      <td>2020-11-21 05:52:54</td>\n",
       "      <td>M</td>\n",
       "      <td>23</td>\n",
       "      <td>13.681</td>\n",
       "      <td>153351</td>\n",
       "    </tr>\n",
       "  </tbody>\n",
       "</table>\n",
       "</div>"
      ],
      "text/plain": [
       "         year  event_date         event_name distance  finishers  \\\n",
       "2713361  2020  21.11.2020  JFK 50 Mile (USA)     50mi        636   \n",
       "2713362  2020  21.11.2020  JFK 50 Mile (USA)     50mi        636   \n",
       "2713363  2020  21.11.2020  JFK 50 Mile (USA)     50mi        636   \n",
       "2713364  2020  21.11.2020  JFK 50 Mile (USA)     50mi        636   \n",
       "2713365  2020  21.11.2020  JFK 50 Mile (USA)     50mi        636   \n",
       "\n",
       "                performance gender  age  avg_speed      id  \n",
       "2713361 2020-11-21 05:18:42      M   23     15.149   52105  \n",
       "2713362 2020-11-21 05:27:07      M   23     14.759  168122  \n",
       "2713363 2020-11-21 05:37:16      M   23     14.315  848700  \n",
       "2713364 2020-11-21 05:45:33      M   23     13.972   37196  \n",
       "2713365 2020-11-21 05:52:54      M   23     13.681  153351  "
      ]
     },
     "execution_count": 618,
     "metadata": {},
     "output_type": "execute_result"
    }
   ],
   "source": [
    "jfk_event.head()"
   ]
  },
  {
   "cell_type": "code",
   "execution_count": 619,
   "id": "ddf87911-47c1-446c-9b2c-dfde0583b384",
   "metadata": {},
   "outputs": [
    {
     "data": {
      "text/plain": [
       "(632, 10)"
      ]
     },
     "execution_count": 619,
     "metadata": {},
     "output_type": "execute_result"
    }
   ],
   "source": [
    "#Conta o número de linhas \n",
    "jfk_event.shape"
   ]
  },
  {
   "cell_type": "markdown",
   "id": "7ebc36d8-1955-4e5c-8710-e464938b2031",
   "metadata": {},
   "source": [
    "Podemos notar que a prova não houve nenhum desistente. Foram 636 participantes (Atualmente são 632 linhas por conta da remoção dos valores nulos) e\n",
    "nenhum deles quebrou. \"Quebrar\" é um termo utilizado para quando um atleta em determinado momento da prova e não consegue completar a corrida\n",
    "(ou precisa diminuir muito o ritmo para chegar até o final).\n",
    "\n",
    "Uma das hipóteses é devido à estação do ano que a prova foi realizada. Na data que a ultra maratona foi realizada era outono, a temperatura é mais amena se comparada ao verão, por exemplo."
   ]
  },
  {
   "cell_type": "code",
   "execution_count": 621,
   "id": "7b95c5ac-9671-462f-b90f-e160730d5638",
   "metadata": {},
   "outputs": [
    {
     "name": "stdout",
     "output_type": "stream",
     "text": [
      "Quantidade de atletas do gênero masculino: 470\n",
      "Quantidade de atletas do gênero feminino: 162\n"
     ]
    }
   ],
   "source": [
    "print(\"Quantidade de atletas do gênero masculino:\", jfk_event[jfk_event['gender'] == 'M'].shape[0])\n",
    "print(\"Quantidade de atletas do gênero feminino:\", jfk_event[jfk_event['gender'] == 'F'].shape[0])"
   ]
  },
  {
   "cell_type": "markdown",
   "id": "256209bd-9eb3-4593-a715-b44d6ea35bdb",
   "metadata": {},
   "source": [
    "Podemos notar que a maioria dos atletas são do sexo masculino."
   ]
  },
  {
   "cell_type": "markdown",
   "id": "99cdf338-03f0-4d18-a14b-20f75149de93",
   "metadata": {},
   "source": [
    "Para analisar a separação dos gêneros por idade, vamos criar uma coluna com a classificação da categoria por idade, sendo elas:\n",
    "\n",
    "● Atletas com menos de 20: 20-\n",
    "    \n",
    "● Atletas entre 20 e 30: 20 a 30\n",
    "    \n",
    "● Atletas  entre 31 e 40: 31 a 40\n",
    "    \n",
    "● Atletas entre 41 e 50: 41 a 50\n",
    "    \n",
    "● Atletas maiores que 50: 50+"
   ]
  },
  {
   "cell_type": "code",
   "execution_count": 624,
   "id": "b1889a8e-e4c0-466c-abeb-e2a41dc4fc59",
   "metadata": {},
   "outputs": [
    {
     "data": {
      "text/html": [
       "<div>\n",
       "<style scoped>\n",
       "    .dataframe tbody tr th:only-of-type {\n",
       "        vertical-align: middle;\n",
       "    }\n",
       "\n",
       "    .dataframe tbody tr th {\n",
       "        vertical-align: top;\n",
       "    }\n",
       "\n",
       "    .dataframe thead th {\n",
       "        text-align: right;\n",
       "    }\n",
       "</style>\n",
       "<table border=\"1\" class=\"dataframe\">\n",
       "  <thead>\n",
       "    <tr style=\"text-align: right;\">\n",
       "      <th></th>\n",
       "      <th>year</th>\n",
       "      <th>event_date</th>\n",
       "      <th>event_name</th>\n",
       "      <th>distance</th>\n",
       "      <th>finishers</th>\n",
       "      <th>performance</th>\n",
       "      <th>gender</th>\n",
       "      <th>age</th>\n",
       "      <th>avg_speed</th>\n",
       "      <th>id</th>\n",
       "      <th>age_cat</th>\n",
       "    </tr>\n",
       "  </thead>\n",
       "  <tbody>\n",
       "    <tr>\n",
       "      <th>2713361</th>\n",
       "      <td>2020</td>\n",
       "      <td>21.11.2020</td>\n",
       "      <td>JFK 50 Mile (USA)</td>\n",
       "      <td>50mi</td>\n",
       "      <td>636</td>\n",
       "      <td>2020-11-21 05:18:42</td>\n",
       "      <td>M</td>\n",
       "      <td>23</td>\n",
       "      <td>15.149</td>\n",
       "      <td>52105</td>\n",
       "      <td>20 a 30</td>\n",
       "    </tr>\n",
       "    <tr>\n",
       "      <th>2713362</th>\n",
       "      <td>2020</td>\n",
       "      <td>21.11.2020</td>\n",
       "      <td>JFK 50 Mile (USA)</td>\n",
       "      <td>50mi</td>\n",
       "      <td>636</td>\n",
       "      <td>2020-11-21 05:27:07</td>\n",
       "      <td>M</td>\n",
       "      <td>23</td>\n",
       "      <td>14.759</td>\n",
       "      <td>168122</td>\n",
       "      <td>20 a 30</td>\n",
       "    </tr>\n",
       "    <tr>\n",
       "      <th>2713363</th>\n",
       "      <td>2020</td>\n",
       "      <td>21.11.2020</td>\n",
       "      <td>JFK 50 Mile (USA)</td>\n",
       "      <td>50mi</td>\n",
       "      <td>636</td>\n",
       "      <td>2020-11-21 05:37:16</td>\n",
       "      <td>M</td>\n",
       "      <td>23</td>\n",
       "      <td>14.315</td>\n",
       "      <td>848700</td>\n",
       "      <td>20 a 30</td>\n",
       "    </tr>\n",
       "    <tr>\n",
       "      <th>2713364</th>\n",
       "      <td>2020</td>\n",
       "      <td>21.11.2020</td>\n",
       "      <td>JFK 50 Mile (USA)</td>\n",
       "      <td>50mi</td>\n",
       "      <td>636</td>\n",
       "      <td>2020-11-21 05:45:33</td>\n",
       "      <td>M</td>\n",
       "      <td>23</td>\n",
       "      <td>13.972</td>\n",
       "      <td>37196</td>\n",
       "      <td>20 a 30</td>\n",
       "    </tr>\n",
       "    <tr>\n",
       "      <th>2713365</th>\n",
       "      <td>2020</td>\n",
       "      <td>21.11.2020</td>\n",
       "      <td>JFK 50 Mile (USA)</td>\n",
       "      <td>50mi</td>\n",
       "      <td>636</td>\n",
       "      <td>2020-11-21 05:52:54</td>\n",
       "      <td>M</td>\n",
       "      <td>23</td>\n",
       "      <td>13.681</td>\n",
       "      <td>153351</td>\n",
       "      <td>20 a 30</td>\n",
       "    </tr>\n",
       "  </tbody>\n",
       "</table>\n",
       "</div>"
      ],
      "text/plain": [
       "         year  event_date         event_name distance  finishers  \\\n",
       "2713361  2020  21.11.2020  JFK 50 Mile (USA)     50mi        636   \n",
       "2713362  2020  21.11.2020  JFK 50 Mile (USA)     50mi        636   \n",
       "2713363  2020  21.11.2020  JFK 50 Mile (USA)     50mi        636   \n",
       "2713364  2020  21.11.2020  JFK 50 Mile (USA)     50mi        636   \n",
       "2713365  2020  21.11.2020  JFK 50 Mile (USA)     50mi        636   \n",
       "\n",
       "                performance gender  age  avg_speed      id  age_cat  \n",
       "2713361 2020-11-21 05:18:42      M   23     15.149   52105  20 a 30  \n",
       "2713362 2020-11-21 05:27:07      M   23     14.759  168122  20 a 30  \n",
       "2713363 2020-11-21 05:37:16      M   23     14.315  848700  20 a 30  \n",
       "2713364 2020-11-21 05:45:33      M   23     13.972   37196  20 a 30  \n",
       "2713365 2020-11-21 05:52:54      M   23     13.681  153351  20 a 30  "
      ]
     },
     "execution_count": 624,
     "metadata": {},
     "output_type": "execute_result"
    }
   ],
   "source": [
    "# Criar função de categoria por idades \n",
    "def age_class(x):\n",
    "    if(x<20):\n",
    "        return '20-'\n",
    "    elif (x>=20 and x<=30):\n",
    "        return '20 a 30'\n",
    "    elif (x>30 and x<=40):\n",
    "        return '31 a 40'\n",
    "    elif (x>40 and x<=50 ):\n",
    "        return '41 a 50'\n",
    "    else :\n",
    "        return '50+'\n",
    "        \n",
    "# Criar coluna \n",
    "jfk_event['age_cat']=jfk_event['age'].apply(age_class)\n",
    "\n",
    "jfk_event.head()\n"
   ]
  },
  {
   "cell_type": "code",
   "execution_count": 670,
   "id": "d2c71a18-2fca-4f54-b1e3-938b9914b4de",
   "metadata": {},
   "outputs": [
    {
     "data": {
      "image/png": "[encoded data removed]",
      "text/plain": [
       "<Figure size 1000x600 with 1 Axes>"
      ]
     },
     "metadata": {},
     "output_type": "display_data"
    },
    {
     "data": {
      "text/plain": [
       "<Figure size 640x480 with 0 Axes>"
      ]
     },
     "metadata": {},
     "output_type": "display_data"
    }
   ],
   "source": [
    "# Variável da contagem por faixa etária e gênero\n",
    "contagem_idade_genero = jfk_event.groupby(['age_cat', 'gender']).size().unstack(fill_value=0)\n",
    "\n",
    "# Configurações de índice e largura de barra\n",
    "x = np.arange(len(contagem_idade_genero.index)) \n",
    "width = 0.35\n",
    "\n",
    "fig, ax = plt.subplots(figsize=(10, 6))\n",
    "\n",
    "# Barras do gênero masculino\n",
    "ax.bar(x - width/2, contagem_idade_genero['M'], width, label='M', color='#1D2E42')\n",
    "\n",
    "# Barras do gênero feminino\n",
    "ax.bar(x + width/2, contagem_idade_genero['F'], width, label='F', color='#A4B9D2')\n",
    "\n",
    "# Formatar gráfico \n",
    "ax.set_title('Distribuição de atletas por idade e gênero', fontsize=16, color='#414950', fontweight='bold')\n",
    "ax.set_xticks(x)\n",
    "ax.set_xticklabels(contagem_idade_genero.index)\n",
    "ax.set_xlabel('')\n",
    "ax.set_ylabel('')\n",
    "ax.legend()\n",
    "plt.gca().spines['top'].set_visible(False)\n",
    "plt.gca().spines['right'].set_visible(False) \n",
    "plt.gca().spines['left'].set_visible(False)\n",
    "plt.gca().spines['bottom'].set_visible(False)\n",
    "plt.gca().grid(False)\n",
    "plt.show()\n",
    "\n",
    "plt.savefig('Distribuição de atletas por idade e gênero', dpi=300, bbox_inches='tight')\n"
   ]
  },
  {
   "cell_type": "markdown",
   "id": "5c0385c7-8e33-48d8-89de-081b2698a6c6",
   "metadata": {},
   "source": [
    "A maior quantidade de atletas do público masculino se encontra entre 20 e 30 anos, enquanto o público feminino está alocado no grupo de participantes de 31 a 40 anos. \n",
    "\n",
    "Não houve nenhum competidor com menos de 20 anos."
   ]
  },
  {
   "cell_type": "code",
   "execution_count": 627,
   "id": "0c4dc8f4-e572-4397-bc7e-3fb3ee36c5df",
   "metadata": {},
   "outputs": [
    {
     "name": "stdout",
     "output_type": "stream",
     "text": [
      "Quantidade de atletas do gênero masculino de 20 a 30 anos: 162\n",
      "Quantidade de atletas do gênero feminino de 31 a 40 anos: 67\n"
     ]
    }
   ],
   "source": [
    "# Contar quantidade de atletas do sexo masculino de 20 a 30 anos\n",
    "print(\"Quantidade de atletas do gênero masculino de 20 a 30 anos:\", jfk_event[(jfk_event['age_cat'] == '20 a 30') \n",
    "      & (jfk_event['gender'] == 'M')].shape[0])\n",
    "\n",
    "# Contar quantidade de atletas do sexo feminino de 31 a 40 anos\n",
    "print(\"Quantidade de atletas do gênero feminino de 31 a 40 anos:\", jfk_event[(jfk_event['age_cat'] == '31 a 40') \n",
    "      & (jfk_event['gender'] == 'F')].shape[0])"
   ]
  },
  {
   "cell_type": "code",
   "execution_count": 672,
   "id": "d5759712-09ce-4443-89f7-5ddd35ac0ade",
   "metadata": {},
   "outputs": [
    {
     "data": {
      "image/png": "[encoded data removed]",
      "text/plain": [
       "<Figure size 1000x600 with 1 Axes>"
      ]
     },
     "metadata": {},
     "output_type": "display_data"
    },
    {
     "data": {
      "text/plain": [
       "<Figure size 640x480 with 0 Axes>"
      ]
     },
     "metadata": {},
     "output_type": "display_data"
    }
   ],
   "source": [
    "import matplotlib.pyplot as plt\n",
    "import seaborn as sns\n",
    "\n",
    "# Definir o estilo do gráfico\n",
    "sns.set(style=\"whitegrid\")\n",
    "\n",
    "# Criar o gráfico\n",
    "plt.figure(figsize=(10, 6))\n",
    "\n",
    "# Plotar gráfico de violino agrupado por faixa etária e gênero\n",
    "sns.violinplot(x='age_cat', y='avg_speed', data=jfk_event, hue='gender', dodge=True, inner=\"box\", linewidth=1.25, palette={'M': '#1D2E42',\n",
    "                                                                                                                           'F': '#A4B9D2'})\n",
    "# Formatar gráfico\n",
    "plt.title('Distribuição de Velocidade Média por Idade e Gênero', fontsize=20, color='#414950', fontweight='bold')\n",
    "plt.xlabel('')\n",
    "plt.ylabel('')\n",
    "plt.legend(title='Gênero', labels=['Masculino', 'Feminino'], fontsize=14, title_fontsize=14)\n",
    "handles, labels = plt.gca().get_legend_handles_labels() \n",
    "plt.legend(handles=handles, labels=labels, title='Gênero', fontsize=14, title_fontsize=14, loc='upper right', frameon=False)\n",
    "plt.gca().set_facecolor('white')\n",
    "sns.despine()\n",
    "plt.gca().spines['top'].set_visible(False)\n",
    "plt.gca().spines['right'].set_visible(False) \n",
    "plt.gca().spines['left'].set_visible(False)\n",
    "plt.gca().spines['bottom'].set_visible(False)\n",
    "plt.gca().grid(False)\n",
    "\n",
    "# Mostrar o gráfico\n",
    "plt.show()\n",
    "\n",
    "plt.savefig('Distribuição de Velocidade Média por Idade e Gênero', dpi=300, bbox_inches='tight')\n"
   ]
  },
  {
   "cell_type": "markdown",
   "id": "ae38363c-6218-41df-bcae-32ec8aa11155",
   "metadata": {},
   "source": [
    "A faixa de densidade mostra que a maioria dos corredores mantiveram a velocidade entre 6 e 8 milhas por hora (mph), indicando uma convergência nas performances em torno dessa faixa de tempo.\n",
    "\n",
    "A maior velocidade em mph do grupo feminino está nos participantes de 31 a 40 anos.\n"
   ]
  },
  {
   "cell_type": "code",
   "execution_count": 631,
   "id": "9af20ff7-a8e2-406a-89de-e5232243c7ea",
   "metadata": {},
   "outputs": [
    {
     "data": {
      "text/html": [
       "<div>\n",
       "<style scoped>\n",
       "    .dataframe tbody tr th:only-of-type {\n",
       "        vertical-align: middle;\n",
       "    }\n",
       "\n",
       "    .dataframe tbody tr th {\n",
       "        vertical-align: top;\n",
       "    }\n",
       "\n",
       "    .dataframe thead th {\n",
       "        text-align: right;\n",
       "    }\n",
       "</style>\n",
       "<table border=\"1\" class=\"dataframe\">\n",
       "  <thead>\n",
       "    <tr style=\"text-align: right;\">\n",
       "      <th></th>\n",
       "      <th>year</th>\n",
       "      <th>event_date</th>\n",
       "      <th>event_name</th>\n",
       "      <th>distance</th>\n",
       "      <th>finishers</th>\n",
       "      <th>performance</th>\n",
       "      <th>gender</th>\n",
       "      <th>age</th>\n",
       "      <th>avg_speed</th>\n",
       "      <th>id</th>\n",
       "      <th>age_cat</th>\n",
       "    </tr>\n",
       "  </thead>\n",
       "  <tbody>\n",
       "    <tr>\n",
       "      <th>2713361</th>\n",
       "      <td>2020</td>\n",
       "      <td>21.11.2020</td>\n",
       "      <td>JFK 50 Mile (USA)</td>\n",
       "      <td>50mi</td>\n",
       "      <td>636</td>\n",
       "      <td>2020-11-21 05:18:42</td>\n",
       "      <td>M</td>\n",
       "      <td>23</td>\n",
       "      <td>15.149</td>\n",
       "      <td>52105</td>\n",
       "      <td>20 a 30</td>\n",
       "    </tr>\n",
       "    <tr>\n",
       "      <th>2713996</th>\n",
       "      <td>2020</td>\n",
       "      <td>21.11.2020</td>\n",
       "      <td>JFK 50 Mile (USA)</td>\n",
       "      <td>50mi</td>\n",
       "      <td>636</td>\n",
       "      <td>2020-11-21 13:47:24</td>\n",
       "      <td>M</td>\n",
       "      <td>50</td>\n",
       "      <td>5.835</td>\n",
       "      <td>366056</td>\n",
       "      <td>41 a 50</td>\n",
       "    </tr>\n",
       "  </tbody>\n",
       "</table>\n",
       "</div>"
      ],
      "text/plain": [
       "         year  event_date         event_name distance  finishers  \\\n",
       "2713361  2020  21.11.2020  JFK 50 Mile (USA)     50mi        636   \n",
       "2713996  2020  21.11.2020  JFK 50 Mile (USA)     50mi        636   \n",
       "\n",
       "                performance gender  age  avg_speed      id  age_cat  \n",
       "2713361 2020-11-21 05:18:42      M   23     15.149   52105  20 a 30  \n",
       "2713996 2020-11-21 13:47:24      M   50      5.835  366056  41 a 50  "
      ]
     },
     "execution_count": 631,
     "metadata": {},
     "output_type": "execute_result"
    }
   ],
   "source": [
    "#Comparação entre vencedor da prova e último colocado\n",
    "(jfk_event.loc[(jfk_event['performance'] == jfk_event['performance'].min()) | (jfk_event['performance'] == jfk_event['performance'].max())])"
   ]
  },
  {
   "cell_type": "code",
   "execution_count": 632,
   "id": "f5180f5b-43cc-43c7-805e-c33963ab022f",
   "metadata": {},
   "outputs": [
    {
     "name": "stdout",
     "output_type": "stream",
     "text": [
      "O primeiro colocado teve uma velocidade média 2.6 vezes maior que o último colocado.\n"
     ]
    }
   ],
   "source": [
    "print(\"O primeiro colocado teve uma velocidade média\", round(jfk_event['avg_speed'].max() / jfk_event['avg_speed'].min(), 2),\n",
    "      \"vezes maior que o último colocado.\")"
   ]
  },
  {
   "cell_type": "markdown",
   "id": "60666c5f-ea95-4cf2-a359-1fb7fb8a4062",
   "metadata": {},
   "source": [
    "A maior velocidade em mph foi do gênero masculino no grupo de 20 a 30 anos, com 15,149 mph. Logo, o vencedor da competição está nessa categoria, percorrendo aproximadamente 80,47 km numa velocidade média de 24,38 km/h."
   ]
  },
  {
   "cell_type": "code",
   "execution_count": 634,
   "id": "58bb4131-9141-423b-9f3e-c78f9880105d",
   "metadata": {},
   "outputs": [
    {
     "data": {
      "image/png": "[encoded data removed]",
      "text/plain": [
       "<Figure size 1600x800 with 1 Axes>"
      ]
     },
     "metadata": {},
     "output_type": "display_data"
    }
   ],
   "source": [
    "#Plotar gráfico\n",
    "plt.figure(figsize=(16,8))\n",
    "sns.pointplot(x=jfk_event['performance'].dt.hour, y=jfk_event['avg_speed'], markers = 'o', estimator='mean', scale=0.1, color = '#414950')\n",
    "\n",
    "# Formatar gráfico\n",
    "plt.xlabel('Tempo de prova')\n",
    "plt.ylabel('Velocidade durante a prova')\n",
    "plt.title('Tempo de prova vs Velocidade média', fontsize = 20, color = '#414950', fontweight = 'bold') \n",
    "plt.gca().spines['top'].set_visible(False)\n",
    "plt.gca().spines['right'].set_visible(False) \n",
    "plt.gca().spines['left'].set_visible(False)\n",
    "plt.gca().spines['bottom'].set_visible(False)\n",
    "\n",
    "plt.savefig('Tempo de prova vs Velocidade média', dpi=300, bbox_inches='tight')\n"
   ]
  },
  {
   "cell_type": "markdown",
   "id": "897bc84b-d833-4696-a560-31d46b98c4d7",
   "metadata": {},
   "source": [
    "O gráfico mostra de forma esquematizada a relação do tempo de prova dos atletas de acordo com sua velocidade média mantida durante a prova."
   ]
  },
  {
   "cell_type": "code",
   "execution_count": null,
   "id": "1bc14d8a-11ef-4747-9442-976757cb9d09",
   "metadata": {},
   "outputs": [],
   "source": []
  }
 ],
 "metadata": {
  "kernelspec": {
   "display_name": "Python 3 (ipykernel)",
   "language": "python",
   "name": "python3"
  },
  "language_info": {
   "codemirror_mode": {
    "name": "ipython",
    "version": 3
   },
   "file_extension": ".py",
   "mimetype": "text/x-python",
   "name": "python",
   "nbconvert_exporter": "python",
   "pygments_lexer": "ipython3",
   "version": "3.11.7"
  }
 },
 "nbformat": 4,
 "nbformat_minor": 5
}
